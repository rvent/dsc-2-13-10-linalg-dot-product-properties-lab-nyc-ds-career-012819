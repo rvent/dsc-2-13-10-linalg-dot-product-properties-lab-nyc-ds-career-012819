{
 "cells": [
  {
   "cell_type": "markdown",
   "metadata": {},
   "source": [
    "# Properties of Dot Product - Lab"
   ]
  },
  {
   "cell_type": "markdown",
   "metadata": {},
   "source": [
    "## Introduction\n",
    "\n",
    "In this lab we shall look at some interesting properties of a Dot product type matrix multiplication. Understanding these properties will become useful as we move forward with machine learning advanced linear algebra. The lab will require you to calculate results to provide a proof for these properties.\n",
    "\n",
    "## Objectives\n",
    "You will be able to:\n",
    "* Understand and analytically explain Distributive, Commutative and Associative properties of dot product\n",
    "\n",
    "## Instructions\n",
    "\n",
    "* For each property, create suitably sized matrices with random data and prove the equations \n",
    "* Ensure that size/dimension assumptions are met while performing calculations (you'll see errors otherwise)\n",
    "* Calculate the LHS and RHS for all equations and show if they are equal or not"
   ]
  },
  {
   "cell_type": "markdown",
   "metadata": {},
   "source": [
    "## Distributive Property - Matrices multiplication is distributive\n",
    "### Show that A.(B+C)=A.B+A.C, when the number of cols in A match the number of rows in B and C"
   ]
  },
  {
   "cell_type": "markdown",
   "metadata": {},
   "source": [
    "# Your code here\n",
    "import numpy as np\n",
    "\n",
    "$\\forall \\ a_i,j$ in **A** $\\forall \\ b_i,j$ in **B**, $\\forall \\ c_i,j$ in **C**  $\\forall \\ i$ in rows length and  $\\forall \\ j$ in columns length\n",
    "$B+C = (b_i,j+c_i,j)$ for example \n",
    "> **B** = [[b_1,1, b_1,2], [b_2,1, b_2,2]] + [[c_1,1, c_1,2], [c_2,1, c_2,2]] =  \n",
    "> [[b_1,1 + c_1,1, b_1,2+c_1,2], [b_2,1 + c_2,1, b_2,2 + c_2,2]] \n",
    "\n"
   ]
  },
  {
   "cell_type": "code",
   "execution_count": 2,
   "metadata": {},
   "outputs": [
    {
     "name": "stdout",
     "output_type": "stream",
     "text": [
      "False\n"
     ]
    }
   ],
   "source": [
    "import numpy as np\n",
    "\n",
    "def create_random_matrix(zero_matrix, range_min, range_max):\n",
    "    result = zero_matrix.copy()\n",
    "    sh = result.shape\n",
    "    for i in range(sh[0]):\n",
    "        for j in range(sh[1]):\n",
    "            result[i,j] += np.random.randint(range_min, range_max)\n",
    "    return result\n",
    "\n",
    "def array_ind(array):\n",
    "    try:\n",
    "        import itertools as it\n",
    "    except NameError as e:\n",
    "        return \"Install itertools\"\n",
    "    sh = array.shape\n",
    "    length = len(array.shape)\n",
    "    lst = list(range(max(sh)))\n",
    "    ind_comb_1 = set(it.combinations_with_replacement(lst, length))\n",
    "    ind_comb_2 = set(it.permutations(lst*2, length))\n",
    "    indices = list(ind_comb_1|ind_comb_2)\n",
    "    idx_final = indices.copy()\n",
    "    for i in range(length):\n",
    "        for perm in indices:\n",
    "            if perm[i] >= sh[i]:\n",
    "                if perm in idx_final:\n",
    "                    idx_final.remove(perm)\n",
    "            idx_final.sort()\n",
    "    return idx_final   \n",
    "\n",
    "def create_random_tensor(tensor, range_min, range_max):\n",
    "    try:\n",
    "        result = tensor.copy()\n",
    "        indices = array_ind(tensor)\n",
    "        for ind in indices:\n",
    "            result[ind] = np.random.randint(range_min, range_max)\n",
    "        return result\n",
    "    except:\n",
    "        return \"Need array_ind to run\"\n",
    "\n",
    "\n",
    "A = create_random_matrix(np.zeros([4,6]), 1, 100)\n",
    "B = create_random_matrix(np.zeros([6, 4]), 1, 100)\n",
    "C = create_random_matrix(np.zeros([6, 4]), 1, 100)\n",
    "\n",
    "left = A.dot(B+C)\n",
    "right = A.dot(B) + A.dot(C)\n",
    "\n",
    "print(False in left == right)\n"
   ]
  },
  {
   "cell_type": "markdown",
   "metadata": {},
   "source": [
    "## Associative Property - Matrices multiplication is associative when each subsequent matrix has the number of rows equal to the number of cols of the previous matrix in the equation.\n",
    "### Show that A.(B.C)=(A.B).C when number of cols in A matches the number of rows in B and the number of columns in B matches the number of rows in C."
   ]
  },
  {
   "cell_type": "code",
   "execution_count": 3,
   "metadata": {},
   "outputs": [
    {
     "data": {
      "text/plain": [
       "array([[ True,  True,  True,  True,  True,  True],\n",
       "       [ True,  True,  True,  True,  True,  True],\n",
       "       [ True,  True,  True,  True,  True,  True],\n",
       "       [ True,  True,  True,  True,  True,  True]])"
      ]
     },
     "execution_count": 3,
     "metadata": {},
     "output_type": "execute_result"
    }
   ],
   "source": [
    "# Your code here \n",
    "A = create_random_matrix(np.zeros([4,6]), 1, 100)\n",
    "B = create_random_matrix(np.zeros([6, 4]), 1, 100)\n",
    "C = create_random_matrix(np.zeros([4, 6]), 1, 100)\n",
    "left = A.dot(B.dot(C))\n",
    "right = (A.dot(B)).dot(C)\n",
    "\n",
    "left == right"
   ]
  },
  {
   "cell_type": "markdown",
   "metadata": {},
   "source": [
    "## Commutative Property - Matrix multiplication is NOT commutative\n",
    "### Show that for matrices A,B, A.B ≠ B.A for some matrices "
   ]
  },
  {
   "cell_type": "code",
   "execution_count": 4,
   "metadata": {},
   "outputs": [
    {
     "name": "stderr",
     "output_type": "stream",
     "text": [
      "/opt/conda/envs/learn-env/lib/python3.6/site-packages/ipykernel_launcher.py:8: DeprecationWarning: elementwise comparison failed; this will raise an error in the future.\n",
      "  \n"
     ]
    },
    {
     "data": {
      "text/plain": [
       "False"
      ]
     },
     "execution_count": 4,
     "metadata": {},
     "output_type": "execute_result"
    }
   ],
   "source": [
    "# Your code here \n",
    "A = create_random_matrix(np.zeros([4,6]), 1, 100)\n",
    "B = create_random_matrix(np.zeros([6, 4]), 1, 100)\n",
    "C = create_random_matrix(np.zeros([4, 6]), 1, 100)\n",
    "left = A.dot(B)\n",
    "right = B.dot(A)\n",
    "\n",
    "left == right\n"
   ]
  },
  {
   "cell_type": "markdown",
   "metadata": {},
   "source": [
    "## Commutative Property -  vector multiplication IS commutative\n",
    "### Prove that for vectors, x<sup>T</sup> . y = y<sup>T</sup> . x when length of  x == length of y\n",
    "Note: superscript<sup>T</sup> denotes the transpose we saw earlier"
   ]
  },
  {
   "cell_type": "code",
   "execution_count": 5,
   "metadata": {},
   "outputs": [
    {
     "data": {
      "text/plain": [
       "array([[ True]])"
      ]
     },
     "execution_count": 5,
     "metadata": {},
     "output_type": "execute_result"
    }
   ],
   "source": [
    "# Your code here \n",
    "A = create_random_tensor(np.zeros([4, 1]), 1, 100)\n",
    "B = create_random_tensor(np.zeros([4, 1]), 1, 100)\n",
    "left = A.transpose().dot(B)\n",
    "right = B.transpose().dot(A)\n",
    "\n",
    "left==right"
   ]
  },
  {
   "cell_type": "markdown",
   "metadata": {},
   "source": [
    "#### and finally \n",
    "## Simplification of the matrix product\n",
    "### Prove that  (A.B)<sup>T</sup> = B<sup>T</sup> . A<sup>T</sup> when the number of columns in A equals the number of rows in B and the number of columns in B equals the number of rows in A"
   ]
  },
  {
   "cell_type": "code",
   "execution_count": 8,
   "metadata": {},
   "outputs": [],
   "source": [
    "# Your code here \n",
    "A = create_random_tensor(np.zeros([4, 5]), 1, 100)\n",
    "B = create_random_tensor(np.zeros([5, 4]), 1, 100)\n",
    "left = (A.dot(B)).transpose()\n",
    "right = B.transpose().dot(A.transpose())\n",
    "\n",
    "print(False in lef)"
   ]
  },
  {
   "cell_type": "markdown",
   "metadata": {},
   "source": [
    "## Summary \n",
    "\n",
    "So now we have seen enough matrix algebra to help us solve a problem of linear equations as we saw earlier in this section. We shall see how to do this next. "
   ]
  }
 ],
 "metadata": {
  "kernelspec": {
   "display_name": "Python 3",
   "language": "python",
   "name": "python3"
  },
  "language_info": {
   "codemirror_mode": {
    "name": "ipython",
    "version": 3
   },
   "file_extension": ".py",
   "mimetype": "text/x-python",
   "name": "python",
   "nbconvert_exporter": "python",
   "pygments_lexer": "ipython3",
   "version": "3.6.6"
  }
 },
 "nbformat": 4,
 "nbformat_minor": 2
}
